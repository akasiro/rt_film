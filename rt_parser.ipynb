{
 "cells": [
  {
   "cell_type": "code",
   "execution_count": 152,
   "metadata": {},
   "outputs": [
    {
     "name": "stdout",
     "output_type": "stream",
     "text": [
      "Overwriting rt_parser.py\n"
     ]
    }
   ],
   "source": [
    "%%writefile rt_parser.py\n",
    "from bs4 import BeautifulSoup\n",
    "import json,re\n",
    "import pandas as pd\n",
    "import numpy as np\n",
    "def list2str(value):\n",
    "    if isinstance(value,list):\n",
    "        value = ', '.join(value)\n",
    "    return value\n",
    "class rt_parser():\n",
    "    '''\n",
    "    html parser\n",
    "    '''\n",
    "    def parse_index(self, res):\n",
    "        '''\n",
    "        parser the all dvd index page of rotten tomato\n",
    "        example: https://www.rottentomatoes.com/api/private/v2.0/browse?sortBy=release&type=dvd-streaming-all&page=312\n",
    "        Args:\n",
    "            res (binary): the content of requests response\n",
    "        Return:\n",
    "            boolen: parse success or not\n",
    "            Dataframe (if success): the data in pandas dataframe format\n",
    "        '''  \n",
    "        data = json.loads(res)\n",
    "        results = data.get('results')\n",
    "        if not results:\n",
    "            return False,\n",
    "        else:\n",
    "            dict_for_pandas = {'title':[], 'url':[], 'id':[], 'actors':[], 'dvdReleaseDate':[], 'mpaaRating':[], 'runtime':[], 'synopsis':[], 'synopsisType':[], 'theaterReleaseDate':[], 'tomatoIcon':[], 'tomatoScore':[]}\n",
    "            for i in results:\n",
    "                for j in dict_for_pandas.keys():\n",
    "                    dict_for_pandas[j].append(i.get(j))\n",
    "            df = pd.DataFrame(dict_for_pandas)\n",
    "            for i in df.columns.tolist():\n",
    "                df[i] = df[i].apply(list2str)\n",
    "            return True, df\n",
    "    def parse_page(self, url, res_content):\n",
    "        '''\n",
    "        parse the content page\n",
    "        example: https://www.rottentomatoes.com/m/the_departure_2020\n",
    "        Args:\n",
    "            url (str): page url without domain, example: /m/the_departure_2020\n",
    "            res_content(binary): the content of requests response\n",
    "        Return:\n",
    "            boolen: parse success or not\n",
    "            Dataframe (if success): the data in pandas dataframe format \n",
    "        '''\n",
    "        dict_for_pandas = {'url':[url], 'critics_percentage':[], 'critics_review_totals':[], 'audience_percentage':[], 'audience_review_totals':[], 'movieSynopsis':[]}\n",
    "        soup = BeautifulSoup(res_content, 'html.parser')\n",
    "#         contentReviews = soup.find('a', {'href':'#contentReviews'})\n",
    "#         audience_reviews = soup.find('a', {'href': '#audience_reviews'})\n",
    "        mop_ratings_wrap__half = soup.find_all('div', {'class': 'mop-ratings-wrap__half'})\n",
    "        try:\n",
    "            critics_percentage = mop_ratings_wrap__half[0].find('span', {'class': 'mop-ratings-wrap__percentage'}).get_text()\n",
    "            critics_percentage = re.sub(r'\\s', '', critics_percentage)\n",
    "            critics_review_totals = mop_ratings_wrap__half[0].find('small', {'class':'mop-ratings-wrap__text--small'}).get_text()\n",
    "            critics_review_totals = re.sub(r'\\s','', critics_review_totals)\n",
    "            dict_for_pandas['critics_percentage'].append(critics_percentage)\n",
    "            dict_for_pandas['critics_review_totals'].append(critics_review_totals)\n",
    "            audience_percentage = mop_ratings_wrap__half[1].find('span', {'class': 'mop-ratings-wrap__percentage'})\n",
    "            if audience_percentage:\n",
    "                audience_percentage = audience_percentage.get_text()\n",
    "                audience_review_totals = mop_ratings_wrap__half[1].find('strong', {'class':'mop-ratings-wrap__text--small'}).get_text().replace('User Ratings: ', '')\n",
    "                audience_percentage = re.sub(r'\\s','',audience_percentage)\n",
    "                audience_review_totals = re.sub(r'\\s','',audience_review_totals)\n",
    "                dict_for_pandas['audience_percentage'].append(audience_percentage)\n",
    "                dict_for_pandas['audience_review_totals'].append(audience_review_totals)\n",
    "            else:\n",
    "                dict_for_pandas['audience_percentage'].append(np.nan)\n",
    "                dict_for_pandas['audience_review_totals'].append(np.nan)\n",
    "            \n",
    "            movieSynopsis = soup.find('div', {'id':'movieSynopsis'}).get_text().strip('\\n')\n",
    "            dict_for_pandas['movieSynopsis'].append(movieSynopsis)\n",
    "\n",
    "            content_meta_info = soup.find('ul', {'class':'content-meta info'})\n",
    "            for li in content_meta_info.find_all('li'):\n",
    "                tmp_label = li.find('div', {'class':'meta-label subtle'}).get_text()\n",
    "                tmp_label = re.sub('[\\s:]','',tmp_label)\n",
    "                tmp_value = li.find('div', {'class':'meta-value'}).get_text()\n",
    "                tmp_value = re.sub(r' ','#',tmp_value)\n",
    "                tmp_value = re.sub(r'[\\s]','',tmp_value)\n",
    "                tmp_value = re.sub(r'#+',' ',tmp_value)\n",
    "                dict_for_pandas[tmp_label] = [tmp_value]\n",
    "                \n",
    "            df = pd.DataFrame(dict_for_pandas)\n",
    "            return True, df\n",
    "        except:\n",
    "            return False,\n",
    "    def parse_critic_review(self, url, res_content):\n",
    "        '''\n",
    "        parse the critics comemnt page\n",
    "        example: \n",
    "            https://www.rottentomatoes.com/m/vengeance_is_mine_1979/reviews\n",
    "            https://www.rottentomatoes.com/m/to_the_stars/reviews?page=2\n",
    "        Args:\n",
    "            url (str): page url without domain, example: /m/the_departure_2020\n",
    "            res_content(binary): the content of requests response\n",
    "        Return:\n",
    "            boolen: parse success or not\n",
    "            Dataframe (if success): the data in pandas dataframe format \n",
    "        '''\n",
    "        try:\n",
    "            soup = BeautifulSoup(res_content, 'html.parser')\n",
    "            review_table_row = soup.find_all('div', {'class':'row review_table_row'})\n",
    "            dict_for_pandas = {'url':[],'critic_name':[],'critic_link':[],'publication':[],'top_critic':[], 'review_date':[], 'the_review':[], 'review_link':[], 'original_score':[]}\n",
    "            for i in review_table_row:\n",
    "                tmp_data = {'url':url}\n",
    "                review_date = i.find('div', {'class':'review-date subtle small'}).get_text()\n",
    "                review_date = re.sub(r'\\s', '', review_date)\n",
    "                tmp_data['review_date'] = review_date\n",
    "                the_review = i.find('div', {'class': 'the_review'}).get_text()\n",
    "                the_review = re.sub(' ', '#', the_review)\n",
    "                the_review = re.sub(r'\\s', '', the_review)\n",
    "                the_review = re.sub(r'[#]+', ' ', the_review).strip()\n",
    "                tmp_data['the_review'] = the_review \n",
    "                review_link = i.find('div', {'class':'small subtle review-link'})\n",
    "                full_review_link_a = review_link.find('a')\n",
    "                if full_review_link_a:\n",
    "                    full_review_link = full_review_link_a['href']\n",
    "                    tmp_data['review_link'] = full_review_link\n",
    "                original_score = review_link.get_text()\n",
    "                original_score = re.sub(r'[\\s(Full Review)(| Original Score:)]','',original_score)\n",
    "                tmp_data['original_score'] = original_score\n",
    "                critic = i.find('a', {'class': 'unstyled bold articleLink'})\n",
    "                critic_name = critic.get_text()\n",
    "                critic_link = critic['href']\n",
    "                tmp_data['critic_name'] = critic_name\n",
    "                tmp_data['critic_link'] = critic_link\n",
    "                publication = i.find('em', {'class':'subtle critic-publication'})\n",
    "                if publication:\n",
    "                    publication = publication.get_text()\n",
    "                    tmp_data['publication'] = publication\n",
    "                top_critic = i.find('span', {'class': 'glyphicon glyphicon-star'})\n",
    "                if top_critic:\n",
    "                    tmp_data['top_critic'] = 1\n",
    "                else:\n",
    "                    tmp_data['top_critic'] = 0\n",
    "\n",
    "                for k in dict_for_pandas.keys():\n",
    "                    dict_for_pandas[k].append(tmp_data.get(k))\n",
    "            df = pd.DataFrame(dict_for_pandas)\n",
    "            return True, df\n",
    "        except:\n",
    "            return False,\n",
    "    def parse_critic_review_next(self, url, res_content):\n",
    "        '''\n",
    "        parse the critics comemnt next page\n",
    "        example: \n",
    "            https://www.rottentomatoes.com/m/vengeance_is_mine_1979/reviews\n",
    "            https://www.rottentomatoes.com/m/to_the_stars/reviews?page=2\n",
    "        Args:\n",
    "            url (str): page url without domain, example: /m/the_departure_2020\n",
    "            res_content(binary): the content of requests response\n",
    "        Return:\n",
    "            boolen: have next page or not\n",
    "            str (if success): the next page url link \n",
    "        '''\n",
    "        soup = BeautifulSoup(res_content, 'html.parser')\n",
    "        page_div = soup.find('div', {'style':'display:inline-block; float:right; padding-bottom:10px'})\n",
    "        if page_div:\n",
    "            page_box = page_div.find_all('a')\n",
    "            nextpage = page_box[1]['href']\n",
    "            if nextpage != '#':\n",
    "                return True, nextpage\n",
    "        return False,"
   ]
  },
  {
   "cell_type": "markdown",
   "metadata": {},
   "source": [
    "# test"
   ]
  },
  {
   "cell_type": "code",
   "execution_count": 147,
   "metadata": {},
   "outputs": [],
   "source": [
    "t1 = rt_parser()"
   ]
  },
  {
   "cell_type": "code",
   "execution_count": 3,
   "metadata": {},
   "outputs": [
    {
     "name": "stdout",
     "output_type": "stream",
     "text": [
      "200\n"
     ]
    }
   ],
   "source": [
    "import requests\n",
    "\n",
    "url = 'https://www.rottentomatoes.com/api/private/v2.0/browse?sortBy=release&type=dvd-streaming-all&page=312'\n",
    "r1 = requests.get(url)\n",
    "print(r1.status_code)\n",
    "\n",
    "with open('../rt_test/index.html', 'wb+') as f:\n",
    "    f.write(r1.content)"
   ]
  },
  {
   "cell_type": "code",
   "execution_count": 4,
   "metadata": {},
   "outputs": [],
   "source": [
    "res1 = t1.parse_index(r1.content)"
   ]
  },
  {
   "cell_type": "code",
   "execution_count": 5,
   "metadata": {},
   "outputs": [
    {
     "data": {
      "text/plain": [
       "(32, 12)"
      ]
     },
     "execution_count": 5,
     "metadata": {},
     "output_type": "execute_result"
    }
   ],
   "source": [
    "res1[1].shape"
   ]
  },
  {
   "cell_type": "code",
   "execution_count": 6,
   "metadata": {},
   "outputs": [
    {
     "name": "stdout",
     "output_type": "stream",
     "text": [
      "200\n"
     ]
    }
   ],
   "source": [
    "url1 = 'https://www.rottentomatoes.com/m/vengeance_is_mine_1979'\n",
    "r21 = requests.get(url1)\n",
    "print(r21.status_code)\n",
    "\n",
    "with open('../rt_test/vengeance_is_mine_1979.html', 'wb+') as f:\n",
    "    f.write(r21.content)"
   ]
  },
  {
   "cell_type": "code",
   "execution_count": 14,
   "metadata": {},
   "outputs": [
    {
     "name": "stdout",
     "output_type": "stream",
     "text": [
      "200\n"
     ]
    }
   ],
   "source": [
    "url2 = 'https://www.rottentomatoes.com/m/the_departure_2020'\n",
    "r22 = requests.get(url2)\n",
    "print(r22.status_code)\n",
    "\n",
    "with open('../rt_test/the_departure_2020.html', 'wb+') as f:\n",
    "    f.write(r22.content)"
   ]
  },
  {
   "cell_type": "code",
   "execution_count": 66,
   "metadata": {},
   "outputs": [
    {
     "data": {
      "text/html": [
       "<div>\n",
       "<style scoped>\n",
       "    .dataframe tbody tr th:only-of-type {\n",
       "        vertical-align: middle;\n",
       "    }\n",
       "\n",
       "    .dataframe tbody tr th {\n",
       "        vertical-align: top;\n",
       "    }\n",
       "\n",
       "    .dataframe thead th {\n",
       "        text-align: right;\n",
       "    }\n",
       "</style>\n",
       "<table border=\"1\" class=\"dataframe\">\n",
       "  <thead>\n",
       "    <tr style=\"text-align: right;\">\n",
       "      <th></th>\n",
       "      <th>url</th>\n",
       "      <th>critics_percentage</th>\n",
       "      <th>critics_review_totals</th>\n",
       "      <th>audience_percentage</th>\n",
       "      <th>audience_review_totals</th>\n",
       "      <th>movieSynopsis</th>\n",
       "      <th>Rating</th>\n",
       "      <th>Genre</th>\n",
       "      <th>DirectedBy</th>\n",
       "      <th>WrittenBy</th>\n",
       "      <th>InTheaters</th>\n",
       "      <th>OnDisc/Streaming</th>\n",
       "      <th>Runtime</th>\n",
       "      <th>Studio</th>\n",
       "    </tr>\n",
       "  </thead>\n",
       "  <tbody>\n",
       "    <tr>\n",
       "      <th>0</th>\n",
       "      <td>m/the_departure_2020</td>\n",
       "      <td>50%</td>\n",
       "      <td>6</td>\n",
       "      <td>NaN</td>\n",
       "      <td>NaN</td>\n",
       "      <td>Right before moving in togethe...</td>\n",
       "      <td>NR</td>\n",
       "      <td>Drama</td>\n",
       "      <td>MerlandHoxha</td>\n",
       "      <td>MerlandHoxha</td>\n",
       "      <td>Jun12,2020limited</td>\n",
       "      <td>Jun12,2020</td>\n",
       "      <td>70minutes</td>\n",
       "      <td>MerlandProductions</td>\n",
       "    </tr>\n",
       "  </tbody>\n",
       "</table>\n",
       "</div>"
      ],
      "text/plain": [
       "                    url critics_percentage critics_review_totals  \\\n",
       "0  m/the_departure_2020                50%                     6   \n",
       "\n",
       "   audience_percentage  audience_review_totals  \\\n",
       "0                  NaN                     NaN   \n",
       "\n",
       "                                       movieSynopsis Rating  Genre  \\\n",
       "0                  Right before moving in togethe...     NR  Drama   \n",
       "\n",
       "     DirectedBy     WrittenBy         InTheaters OnDisc/Streaming    Runtime  \\\n",
       "0  MerlandHoxha  MerlandHoxha  Jun12,2020limited       Jun12,2020  70minutes   \n",
       "\n",
       "               Studio  \n",
       "0  MerlandProductions  "
      ]
     },
     "execution_count": 66,
     "metadata": {},
     "output_type": "execute_result"
    }
   ],
   "source": [
    "d22 = t1.parse_page('m/the_departure_2020',r22.content)\n",
    "d22[1].head()"
   ]
  },
  {
   "cell_type": "code",
   "execution_count": 78,
   "metadata": {},
   "outputs": [
    {
     "name": "stdout",
     "output_type": "stream",
     "text": [
      "(1, 14)\n"
     ]
    },
    {
     "data": {
      "text/html": [
       "<div>\n",
       "<style scoped>\n",
       "    .dataframe tbody tr th:only-of-type {\n",
       "        vertical-align: middle;\n",
       "    }\n",
       "\n",
       "    .dataframe tbody tr th {\n",
       "        vertical-align: top;\n",
       "    }\n",
       "\n",
       "    .dataframe thead th {\n",
       "        text-align: right;\n",
       "    }\n",
       "</style>\n",
       "<table border=\"1\" class=\"dataframe\">\n",
       "  <thead>\n",
       "    <tr style=\"text-align: right;\">\n",
       "      <th></th>\n",
       "      <th>url</th>\n",
       "      <th>critics_percentage</th>\n",
       "      <th>critics_review_totals</th>\n",
       "      <th>audience_percentage</th>\n",
       "      <th>audience_review_totals</th>\n",
       "      <th>movieSynopsis</th>\n",
       "      <th>Rating</th>\n",
       "      <th>Genre</th>\n",
       "      <th>DirectedBy</th>\n",
       "      <th>WrittenBy</th>\n",
       "      <th>InTheaters</th>\n",
       "      <th>OnDisc/Streaming</th>\n",
       "      <th>Runtime</th>\n",
       "      <th>Studio</th>\n",
       "    </tr>\n",
       "  </thead>\n",
       "  <tbody>\n",
       "    <tr>\n",
       "      <th>0</th>\n",
       "      <td>m/vengeance_is_mine_1979</td>\n",
       "      <td>100%</td>\n",
       "      <td>12</td>\n",
       "      <td>89%</td>\n",
       "      <td>2,479</td>\n",
       "      <td>Based on the true story, 'Veng...</td>\n",
       "      <td>NR</td>\n",
       "      <td>Art House &amp; International, Drama, Mystery &amp; S...</td>\n",
       "      <td>Shohei Imamura</td>\n",
       "      <td>Masaru Baba, Ryuzo Saki</td>\n",
       "      <td>Oct 17, 1979 limited</td>\n",
       "      <td>May 15, 2007</td>\n",
       "      <td>139 minutes</td>\n",
       "      <td>Shochiku Films Ltd.</td>\n",
       "    </tr>\n",
       "  </tbody>\n",
       "</table>\n",
       "</div>"
      ],
      "text/plain": [
       "                        url critics_percentage critics_review_totals  \\\n",
       "0  m/vengeance_is_mine_1979               100%                    12   \n",
       "\n",
       "  audience_percentage audience_review_totals  \\\n",
       "0                 89%                  2,479   \n",
       "\n",
       "                                       movieSynopsis Rating  \\\n",
       "0                  Based on the true story, 'Veng...    NR    \n",
       "\n",
       "                                               Genre      DirectedBy  \\\n",
       "0   Art House & International, Drama, Mystery & S...  Shohei Imamura   \n",
       "\n",
       "                 WrittenBy            InTheaters OnDisc/Streaming  \\\n",
       "0  Masaru Baba, Ryuzo Saki  Oct 17, 1979 limited    May 15, 2007    \n",
       "\n",
       "         Runtime                 Studio  \n",
       "0   139 minutes    Shochiku Films Ltd.   "
      ]
     },
     "execution_count": 78,
     "metadata": {},
     "output_type": "execute_result"
    }
   ],
   "source": [
    "d21 = t1.parse_page('m/vengeance_is_mine_1979',r21.content)\n",
    "print(d21[1].shape)\n",
    "d21[1].head()"
   ]
  },
  {
   "cell_type": "code",
   "execution_count": 76,
   "metadata": {},
   "outputs": [
    {
     "name": "stdout",
     "output_type": "stream",
     "text": [
      "200\n"
     ]
    }
   ],
   "source": [
    "url3 = 'https://www.rottentomatoes.com/m/spinning_into_butter'\n",
    "r23 = requests.get(url3)\n",
    "print(r23.status_code)\n",
    "\n",
    "with open('../rt_test/retaliation_2020.html', 'wb+') as f:\n",
    "    f.write(r23.content)"
   ]
  },
  {
   "cell_type": "code",
   "execution_count": 79,
   "metadata": {},
   "outputs": [
    {
     "name": "stdout",
     "output_type": "stream",
     "text": [
      "(1, 14)\n"
     ]
    },
    {
     "data": {
      "text/html": [
       "<div>\n",
       "<style scoped>\n",
       "    .dataframe tbody tr th:only-of-type {\n",
       "        vertical-align: middle;\n",
       "    }\n",
       "\n",
       "    .dataframe tbody tr th {\n",
       "        vertical-align: top;\n",
       "    }\n",
       "\n",
       "    .dataframe thead th {\n",
       "        text-align: right;\n",
       "    }\n",
       "</style>\n",
       "<table border=\"1\" class=\"dataframe\">\n",
       "  <thead>\n",
       "    <tr style=\"text-align: right;\">\n",
       "      <th></th>\n",
       "      <th>url</th>\n",
       "      <th>critics_percentage</th>\n",
       "      <th>critics_review_totals</th>\n",
       "      <th>audience_percentage</th>\n",
       "      <th>audience_review_totals</th>\n",
       "      <th>movieSynopsis</th>\n",
       "      <th>Rating</th>\n",
       "      <th>Genre</th>\n",
       "      <th>DirectedBy</th>\n",
       "      <th>WrittenBy</th>\n",
       "      <th>InTheaters</th>\n",
       "      <th>OnDisc/Streaming</th>\n",
       "      <th>Runtime</th>\n",
       "      <th>Studio</th>\n",
       "    </tr>\n",
       "  </thead>\n",
       "  <tbody>\n",
       "    <tr>\n",
       "      <th>0</th>\n",
       "      <td>m/retaliation_2020</td>\n",
       "      <td>16%</td>\n",
       "      <td>32</td>\n",
       "      <td>32%</td>\n",
       "      <td>361</td>\n",
       "      <td>Sarah Jessica Parker produces ...</td>\n",
       "      <td>R (for language)</td>\n",
       "      <td>Drama</td>\n",
       "      <td>Mark Brokaw</td>\n",
       "      <td>Doug Atchison, Rebecca Gilman</td>\n",
       "      <td>Mar 27, 2009 wide</td>\n",
       "      <td>Jun 9, 2009</td>\n",
       "      <td>86 minutes</td>\n",
       "      <td>Screen Media Films</td>\n",
       "    </tr>\n",
       "  </tbody>\n",
       "</table>\n",
       "</div>"
      ],
      "text/plain": [
       "                  url critics_percentage critics_review_totals  \\\n",
       "0  m/retaliation_2020                16%                    32   \n",
       "\n",
       "  audience_percentage audience_review_totals  \\\n",
       "0                 32%                    361   \n",
       "\n",
       "                                       movieSynopsis             Rating  \\\n",
       "0                  Sarah Jessica Parker produces ...  R (for language)    \n",
       "\n",
       "     Genre   DirectedBy                      WrittenBy         InTheaters  \\\n",
       "0   Drama   Mark Brokaw  Doug Atchison, Rebecca Gilman  Mar 27, 2009 wide   \n",
       "\n",
       "  OnDisc/Streaming       Runtime                Studio  \n",
       "0     Jun 9, 2009    86 minutes    Screen Media Films   "
      ]
     },
     "execution_count": 79,
     "metadata": {},
     "output_type": "execute_result"
    }
   ],
   "source": [
    "d23 = t1.parse_page('m/retaliation_2020',r23.content)\n",
    "print(d23[1].shape)\n",
    "d23[1].head()"
   ]
  },
  {
   "cell_type": "code",
   "execution_count": 80,
   "metadata": {},
   "outputs": [
    {
     "name": "stdout",
     "output_type": "stream",
     "text": [
      "200\n"
     ]
    }
   ],
   "source": [
    "url31 = 'https://www.rottentomatoes.com/m/vengeance_is_mine_1979/reviews'\n",
    "r31 = requests.get(url31)\n",
    "print(r31.status_code)\n",
    "\n",
    "with open('../rt_test/review_vengeance_is_mine_1979.html', 'wb+') as f:\n",
    "    f.write(r31.content)"
   ]
  },
  {
   "cell_type": "code",
   "execution_count": 154,
   "metadata": {},
   "outputs": [
    {
     "name": "stdout",
     "output_type": "stream",
     "text": [
      "200\n"
     ]
    }
   ],
   "source": [
    "url32 = 'https://www.rottentomatoes.com/m/1001811-battle_of_the_sexes/reviews?page=3'\n",
    "r32 = requests.get(url32)\n",
    "print(r32.status_code)\n",
    "\n",
    "with open('../rt_test/review_to_the_stars.html', 'wb+') as f:\n",
    "    f.write(r32.content)"
   ]
  },
  {
   "cell_type": "code",
   "execution_count": 157,
   "metadata": {},
   "outputs": [
    {
     "name": "stdout",
     "output_type": "stream",
     "text": [
      "(0, 9)\n"
     ]
    },
    {
     "data": {
      "text/html": [
       "<div>\n",
       "<style scoped>\n",
       "    .dataframe tbody tr th:only-of-type {\n",
       "        vertical-align: middle;\n",
       "    }\n",
       "\n",
       "    .dataframe tbody tr th {\n",
       "        vertical-align: top;\n",
       "    }\n",
       "\n",
       "    .dataframe thead th {\n",
       "        text-align: right;\n",
       "    }\n",
       "</style>\n",
       "<table border=\"1\" class=\"dataframe\">\n",
       "  <thead>\n",
       "    <tr style=\"text-align: right;\">\n",
       "      <th></th>\n",
       "      <th>url</th>\n",
       "      <th>critic_name</th>\n",
       "      <th>critic_link</th>\n",
       "      <th>publication</th>\n",
       "      <th>top_critic</th>\n",
       "      <th>review_date</th>\n",
       "      <th>the_review</th>\n",
       "      <th>review_link</th>\n",
       "      <th>original_score</th>\n",
       "    </tr>\n",
       "  </thead>\n",
       "  <tbody>\n",
       "  </tbody>\n",
       "</table>\n",
       "</div>"
      ],
      "text/plain": [
       "Empty DataFrame\n",
       "Columns: [url, critic_name, critic_link, publication, top_critic, review_date, the_review, review_link, original_score]\n",
       "Index: []"
      ]
     },
     "execution_count": 157,
     "metadata": {},
     "output_type": "execute_result"
    }
   ],
   "source": [
    "d32 = t1.parse_critic_review('/m/to_the_stars/',r32.content)\n",
    "print(d32[1].shape)\n",
    "d32[1].head()"
   ]
  },
  {
   "cell_type": "code",
   "execution_count": 156,
   "metadata": {},
   "outputs": [
    {
     "name": "stdout",
     "output_type": "stream",
     "text": [
      "(False,)\n"
     ]
    }
   ],
   "source": [
    "d322 = t1.parse_critic_review_next('/m/to_the_stars/',r32.content)\n",
    "print(d322)\n"
   ]
  },
  {
   "cell_type": "code",
   "execution_count": null,
   "metadata": {},
   "outputs": [],
   "source": []
  }
 ],
 "metadata": {
  "kernelspec": {
   "display_name": "Python 3",
   "language": "python",
   "name": "python3"
  },
  "language_info": {
   "codemirror_mode": {
    "name": "ipython",
    "version": 3
   },
   "file_extension": ".py",
   "mimetype": "text/x-python",
   "name": "python",
   "nbconvert_exporter": "python",
   "pygments_lexer": "ipython3",
   "version": "3.7.6"
  }
 },
 "nbformat": 4,
 "nbformat_minor": 4
}
