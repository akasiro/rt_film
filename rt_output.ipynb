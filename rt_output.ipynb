{
 "cells": [
  {
   "cell_type": "code",
   "execution_count": 10,
   "metadata": {},
   "outputs": [
    {
     "name": "stdout",
     "output_type": "stream",
     "text": [
      "Overwriting rt_output.py\n"
     ]
    }
   ],
   "source": [
    "%%writefile rt_output.py\n",
    "import pandas as pd\n",
    "import sqlite3\n",
    "\n",
    "class rt_output():\n",
    "    '''\n",
    "    for data save\n",
    "    Attributes:\n",
    "        dbpath (str): the database path\n",
    "    '''\n",
    "    def __init__(self, dbpath=None):\n",
    "        '''\n",
    "        Args:\n",
    "            dbpath (str): the database path, default to None\n",
    "        '''\n",
    "        self.dbpath = dbpath\n",
    "        self.conn = sqlite3.connect(dbpath)\n",
    "    def output_index(self, df, table_name):\n",
    "        '''\n",
    "        for save index to database\n",
    "        Args:\n",
    "            df (DataFrame): the data\n",
    "            table_name (str): the table name to store the data\n",
    "        '''\n",
    "        df.to_sql(name=table_name,con=self.conn,if_exists='append',index=False)\n",
    "    def output_page(self, df, table_name):\n",
    "        '''\n",
    "        for save page to database\n",
    "        Args:\n",
    "            df (DataFrame): the data\n",
    "            table_name (str): the table name to store the data\n",
    "        '''\n",
    "        df.to_sql(name=table_name,con=self.conn,if_exists='append',index=False)\n",
    "    def output_critic_review(self, df, table_name):\n",
    "        '''\n",
    "        for save page to database\n",
    "        Args:\n",
    "            df (DataFrame): the data\n",
    "            table_name (str): the table name to store the data\n",
    "        '''\n",
    "        df.to_sql(name=table_name,con=self.conn,if_exists='append',index=False)"
   ]
  },
  {
   "cell_type": "code",
   "execution_count": null,
   "metadata": {},
   "outputs": [],
   "source": []
  }
 ],
 "metadata": {
  "kernelspec": {
   "display_name": "Python 3",
   "language": "python",
   "name": "python3"
  },
  "language_info": {
   "codemirror_mode": {
    "name": "ipython",
    "version": 3
   },
   "file_extension": ".py",
   "mimetype": "text/x-python",
   "name": "python",
   "nbconvert_exporter": "python",
   "pygments_lexer": "ipython3",
   "version": "3.7.6"
  }
 },
 "nbformat": 4,
 "nbformat_minor": 4
}
